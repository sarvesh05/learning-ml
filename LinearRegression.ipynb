{
 "cells": [
  {
   "cell_type": "markdown",
   "metadata": {},
   "source": [
    "## Linear Regression\n",
    "### The data set has been taken from https://www.kaggle.com/andonians/random-linear-regression/data"
   ]
  },
  {
   "cell_type": "code",
   "execution_count": 1,
   "metadata": {},
   "outputs": [],
   "source": [
    "import pandas as pd\n",
    "import numpy as np"
   ]
  },
  {
   "cell_type": "code",
   "execution_count": 26,
   "metadata": {},
   "outputs": [],
   "source": [
    "train_df = pd.read_csv('linear_reg_train.csv')\n",
    "test_df = pd.read_csv('linear_reg_test.csv')"
   ]
  },
  {
   "cell_type": "code",
   "execution_count": 28,
   "metadata": {},
   "outputs": [
    {
     "data": {
      "text/plain": [
       "x    0\n",
       "y    1\n",
       "dtype: int64"
      ]
     },
     "execution_count": 28,
     "metadata": {},
     "output_type": "execute_result"
    }
   ],
   "source": [
    "train_df.isna().sum()"
   ]
  },
  {
   "cell_type": "markdown",
   "metadata": {},
   "source": [
    "#### Train data set has one 'y' value as null, so need to fix that."
   ]
  },
  {
   "cell_type": "code",
   "execution_count": 29,
   "metadata": {},
   "outputs": [
    {
     "data": {
      "text/html": [
       "<div>\n",
       "<style scoped>\n",
       "    .dataframe tbody tr th:only-of-type {\n",
       "        vertical-align: middle;\n",
       "    }\n",
       "\n",
       "    .dataframe tbody tr th {\n",
       "        vertical-align: top;\n",
       "    }\n",
       "\n",
       "    .dataframe thead th {\n",
       "        text-align: right;\n",
       "    }\n",
       "</style>\n",
       "<table border=\"1\" class=\"dataframe\">\n",
       "  <thead>\n",
       "    <tr style=\"text-align: right;\">\n",
       "      <th></th>\n",
       "      <th>x</th>\n",
       "      <th>y</th>\n",
       "    </tr>\n",
       "  </thead>\n",
       "  <tbody>\n",
       "    <tr>\n",
       "      <td>213</td>\n",
       "      <td>3530.157369</td>\n",
       "      <td>NaN</td>\n",
       "    </tr>\n",
       "  </tbody>\n",
       "</table>\n",
       "</div>"
      ],
      "text/plain": [
       "               x   y\n",
       "213  3530.157369 NaN"
      ]
     },
     "execution_count": 29,
     "metadata": {},
     "output_type": "execute_result"
    }
   ],
   "source": [
    "train_df[train_df['y'].isnull()]"
   ]
  },
  {
   "cell_type": "markdown",
   "metadata": {},
   "source": [
    "#### Given in the question, the train data set has 'x' values from 0 to 100, so x value should have been 35 \n",
    "####    and y value should have been 30.157369"
   ]
  },
  {
   "cell_type": "code",
   "execution_count": 30,
   "metadata": {},
   "outputs": [],
   "source": [
    "train_df.loc[213, 'x'] = 35\n",
    "train_df.loc[213, 'y'] = 30.157369"
   ]
  },
  {
   "cell_type": "code",
   "execution_count": 32,
   "metadata": {},
   "outputs": [
    {
     "data": {
      "text/plain": [
       "x    0\n",
       "y    0\n",
       "dtype: int64"
      ]
     },
     "execution_count": 32,
     "metadata": {},
     "output_type": "execute_result"
    }
   ],
   "source": [
    "train_df.isna().sum()"
   ]
  },
  {
   "cell_type": "code",
   "execution_count": 33,
   "metadata": {},
   "outputs": [
    {
     "data": {
      "text/plain": [
       "x    0\n",
       "y    0\n",
       "dtype: int64"
      ]
     },
     "execution_count": 33,
     "metadata": {},
     "output_type": "execute_result"
    }
   ],
   "source": [
    "test_df.isna().sum()"
   ]
  },
  {
   "cell_type": "code",
   "execution_count": 46,
   "metadata": {},
   "outputs": [],
   "source": [
    "x_test = test_df['x'].values.reshape(-1,1)"
   ]
  },
  {
   "cell_type": "code",
   "execution_count": 39,
   "metadata": {},
   "outputs": [
    {
     "data": {
      "text/html": [
       "<div>\n",
       "<style scoped>\n",
       "    .dataframe tbody tr th:only-of-type {\n",
       "        vertical-align: middle;\n",
       "    }\n",
       "\n",
       "    .dataframe tbody tr th {\n",
       "        vertical-align: top;\n",
       "    }\n",
       "\n",
       "    .dataframe thead th {\n",
       "        text-align: right;\n",
       "    }\n",
       "</style>\n",
       "<table border=\"1\" class=\"dataframe\">\n",
       "  <thead>\n",
       "    <tr style=\"text-align: right;\">\n",
       "      <th></th>\n",
       "      <th>x</th>\n",
       "      <th>y</th>\n",
       "    </tr>\n",
       "  </thead>\n",
       "  <tbody>\n",
       "    <tr>\n",
       "      <td>count</td>\n",
       "      <td>700.000000</td>\n",
       "      <td>700.000000</td>\n",
       "    </tr>\n",
       "    <tr>\n",
       "      <td>mean</td>\n",
       "      <td>49.992857</td>\n",
       "      <td>49.911608</td>\n",
       "    </tr>\n",
       "    <tr>\n",
       "      <td>std</td>\n",
       "      <td>28.939406</td>\n",
       "      <td>29.097996</td>\n",
       "    </tr>\n",
       "    <tr>\n",
       "      <td>min</td>\n",
       "      <td>0.000000</td>\n",
       "      <td>-3.839981</td>\n",
       "    </tr>\n",
       "    <tr>\n",
       "      <td>25%</td>\n",
       "      <td>25.000000</td>\n",
       "      <td>24.985830</td>\n",
       "    </tr>\n",
       "    <tr>\n",
       "      <td>50%</td>\n",
       "      <td>49.000000</td>\n",
       "      <td>48.936330</td>\n",
       "    </tr>\n",
       "    <tr>\n",
       "      <td>75%</td>\n",
       "      <td>75.000000</td>\n",
       "      <td>74.880631</td>\n",
       "    </tr>\n",
       "    <tr>\n",
       "      <td>max</td>\n",
       "      <td>100.000000</td>\n",
       "      <td>108.871618</td>\n",
       "    </tr>\n",
       "  </tbody>\n",
       "</table>\n",
       "</div>"
      ],
      "text/plain": [
       "                x           y\n",
       "count  700.000000  700.000000\n",
       "mean    49.992857   49.911608\n",
       "std     28.939406   29.097996\n",
       "min      0.000000   -3.839981\n",
       "25%     25.000000   24.985830\n",
       "50%     49.000000   48.936330\n",
       "75%     75.000000   74.880631\n",
       "max    100.000000  108.871618"
      ]
     },
     "execution_count": 39,
     "metadata": {},
     "output_type": "execute_result"
    }
   ],
   "source": [
    "train_df.describe()"
   ]
  },
  {
   "cell_type": "code",
   "execution_count": 110,
   "metadata": {},
   "outputs": [],
   "source": [
    "import matplotlib.pyplot as plt"
   ]
  },
  {
   "cell_type": "code",
   "execution_count": 35,
   "metadata": {},
   "outputs": [
    {
     "data": {
      "text/plain": [
       "[<matplotlib.lines.Line2D at 0x1136bd390>]"
      ]
     },
     "execution_count": 35,
     "metadata": {},
     "output_type": "execute_result"
    },
    {
     "data": {
      "image/png": "[encoded data removed]",
      "text/plain": [
       "<Figure size 432x288 with 1 Axes>"
      ]
     },
     "metadata": {
      "needs_background": "light"
     },
     "output_type": "display_data"
    }
   ],
   "source": [
    "plt.plot(train_df['x'], train_df['y'], 'go')"
   ]
  },
  {
   "cell_type": "markdown",
   "metadata": {},
   "source": [
    "### 1. Linear Regression from SciKit Library"
   ]
  },
  {
   "cell_type": "code",
   "execution_count": 40,
   "metadata": {},
   "outputs": [],
   "source": [
    "from sklearn.linear_model import LinearRegression"
   ]
  },
  {
   "cell_type": "code",
   "execution_count": 41,
   "metadata": {},
   "outputs": [],
   "source": [
    "model = LinearRegression()"
   ]
  },
  {
   "cell_type": "code",
   "execution_count": 55,
   "metadata": {},
   "outputs": [],
   "source": [
    "x = train_df['x'].values.reshape(-1,1)"
   ]
  },
  {
   "cell_type": "code",
   "execution_count": 45,
   "metadata": {},
   "outputs": [
    {
     "data": {
      "text/plain": [
       "LinearRegression(copy_X=True, fit_intercept=True, n_jobs=None, normalize=False)"
      ]
     },
     "execution_count": 45,
     "metadata": {},
     "output_type": "execute_result"
    }
   ],
   "source": [
    "model.fit(x, train_df['y'])"
   ]
  },
  {
   "cell_type": "code",
   "execution_count": 47,
   "metadata": {},
   "outputs": [],
   "source": [
    "y_pred = model.predict(x_test)"
   ]
  },
  {
   "cell_type": "code",
   "execution_count": 48,
   "metadata": {},
   "outputs": [],
   "source": [
    "from sklearn.metrics import r2_score"
   ]
  },
  {
   "cell_type": "code",
   "execution_count": 49,
   "metadata": {},
   "outputs": [
    {
     "name": "stdout",
     "output_type": "stream",
     "text": [
      "0.9887991524195232\n"
     ]
    }
   ],
   "source": [
    "print(r2_score(test_df['y'], y_pred))"
   ]
  },
  {
   "cell_type": "markdown",
   "metadata": {},
   "source": [
    "### 2. Linear Regression using Cost function"
   ]
  },
  {
   "cell_type": "code",
   "execution_count": 65,
   "metadata": {},
   "outputs": [],
   "source": [
    "x = train_df['x'].values.reshape(-1,1)\n",
    "y_train = train_df['y'].values.reshape(-1,1)"
   ]
  },
  {
   "cell_type": "code",
   "execution_count": 124,
   "metadata": {},
   "outputs": [
    {
     "name": "stdout",
     "output_type": "stream",
     "text": [
      "7.893381929243044\n",
      "7.893369027132745\n",
      "7.893364448047643\n",
      "7.893359873551578\n",
      "7.893355303639953\n",
      "7.89335073830817\n",
      "7.893346177551638\n",
      "7.893341621365778\n",
      "7.893337069746002\n",
      "7.893332522687739\n",
      "7.893327980186417\n",
      "7.893323442237468\n",
      "7.893318908836327\n",
      "7.893314379978443\n",
      "7.893309855659258\n",
      "7.8933053358742225\n",
      "7.893300820618797\n",
      "7.893296309888439\n",
      "7.893291803678615\n",
      "7.893287301984794\n",
      "7.893282804802448\n",
      "7.893278312127059\n",
      "7.89327382395411\n",
      "7.893269340279088\n",
      "7.8932648610974825\n",
      "7.893260386404794\n",
      "7.893255916196523\n",
      "7.893251450468176\n",
      "7.893246989215261\n",
      "7.893242532433297\n",
      "7.893238080117799\n",
      "7.893233632264291\n",
      "7.893229188868302\n",
      "7.893224749925369\n",
      "7.893220315431024\n",
      "7.893215885380812\n",
      "7.893211459770274\n",
      "7.893207038594968\n",
      "7.893202621850443\n",
      "7.893198209532264\n",
      "7.8931938016359915\n",
      "7.893189398157193\n",
      "7.893184999091444\n",
      "7.893180604434322\n",
      "7.893176214181406\n",
      "7.893171828328284\n",
      "7.893167446870547\n",
      "7.893163069803792\n",
      "7.893158697123612\n",
      "7.893154328825619\n",
      "7.893149964905415\n",
      "7.893145605358616\n",
      "7.893141250180836\n",
      "7.893136899367702\n",
      "7.8931325529148335\n",
      "7.893128210817865\n",
      "7.89312387307243\n",
      "7.893119539674167\n",
      "7.893115210618721\n",
      "7.893110885901739\n",
      "7.893106565518869\n",
      "7.893102249465773\n",
      "7.893097937738109\n",
      "7.893093630331545\n",
      "7.893089327241748\n",
      "7.893085028464393\n",
      "7.893080733995157\n",
      "7.893076443829721\n",
      "7.8930721579637755\n",
      "7.89306787639301\n",
      "7.8930635991131215\n",
      "7.8930593261198085\n",
      "7.893055057408775\n",
      "7.893050792975727\n",
      "7.893046532816382\n",
      "7.8930422769264545\n",
      "7.893038025301664\n",
      "7.893033777937742\n",
      "7.8930295348304105\n",
      "7.893025295975408\n",
      "7.893021061368473\n",
      "7.89301683100535\n",
      "7.89301260488178\n",
      "7.89300838299352\n",
      "7.8930041653363245\n",
      "7.892999951905949\n",
      "7.892995742698163\n",
      "7.892991537708731\n",
      "7.89298733693343\n",
      "7.89298314036803\n",
      "7.892978948008318\n",
      "7.892974759850076\n",
      "7.892970575889093\n",
      "7.892966396121165\n",
      "7.892962220542089\n",
      "7.892958049147665\n",
      "7.892953881933701\n",
      "7.892949718896008\n",
      "7.8929455600304\n",
      "7.892941405332696\n"
     ]
    }
   ],
   "source": [
    "n = x.size\n",
    "alpha = 0.0001\n",
    "\n",
    "a0 = np.zeros((n,1))\n",
    "a1 = np.zeros((n,1))\n",
    "\n",
    "epochs = 0\n",
    "while (epochs < 1000):\n",
    "    y = a0 + a1 * x\n",
    "    error = y - y_train\n",
    "    mean_sqr_error = np.sum(error**2)\n",
    "    mean_sqr_error = mean_sqr_error/n\n",
    "    a0 = a0 - (alpha * 2 * np.sum(error))/n\n",
    "    a1 = a1 - (alpha * 2 * np.sum(error * x))/n\n",
    "    epochs+=1\n",
    "    if(epochs%10 == 0):\n",
    "        print(mean_sqr_error)\n",
    "    "
   ]
  },
  {
   "cell_type": "markdown",
   "metadata": {},
   "source": [
    "#### As test data has 300 columns, taking the first 300 values from the a0 and a1"
   ]
  },
  {
   "cell_type": "code",
   "execution_count": 92,
   "metadata": {},
   "outputs": [],
   "source": [
    "new_a0 = a0[:300]\n",
    "new_a1 = a1[:300]"
   ]
  },
  {
   "cell_type": "code",
   "execution_count": 94,
   "metadata": {},
   "outputs": [],
   "source": [
    "y_calc_pred = new_a0 + new_a1 * x_test"
   ]
  },
  {
   "cell_type": "code",
   "execution_count": 98,
   "metadata": {},
   "outputs": [
    {
     "name": "stdout",
     "output_type": "stream",
     "text": [
      "R2 Score 0.9887694557858232\n"
     ]
    }
   ],
   "source": [
    "print('R2 Score', r2_score(test_df['y'], y_calc_pred))"
   ]
  },
  {
   "cell_type": "markdown",
   "metadata": {},
   "source": [
    "#### Converting the numpy matrix to array - https://stackoverflow.com/questions/3337301/numpy-matrix-to-array/20765358"
   ]
  },
  {
   "cell_type": "code",
   "execution_count": 120,
   "metadata": {},
   "outputs": [],
   "source": [
    "c = np.squeeze(np.asarray(new_a0))\n",
    "m = np.squeeze(np.asarray(new_a1))"
   ]
  },
  {
   "cell_type": "code",
   "execution_count": 122,
   "metadata": {},
   "outputs": [
    {
     "data": {
      "image/png": "[encoded data removed]",
      "text/plain": [
       "<Figure size 720x720 with 1 Axes>"
      ]
     },
     "metadata": {
      "needs_background": "light"
     },
     "output_type": "display_data"
    }
   ],
   "source": [
    "y_plot = []\n",
    "for i in range(100):\n",
    "    y_plot.append(c + m * i)\n",
    "plt.figure(figsize=(10,10))\n",
    "plt.scatter(x_test, test_df['y'], color = 'red', label = 'GT')\n",
    "plt.plot(range(len(y_plot)), y_plot, color = 'black', label = 'pred')\n",
    "#plt.legend()\n",
    "plt.show()"
   ]
  }
 ],
 "metadata": {
  "kernelspec": {
   "display_name": "Python 3",
   "language": "python",
   "name": "python3"
  },
  "language_info": {
   "codemirror_mode": {
    "name": "ipython",
    "version": 3
   },
   "file_extension": ".py",
   "mimetype": "text/x-python",
   "name": "python",
   "nbconvert_exporter": "python",
   "pygments_lexer": "ipython3",
   "version": "3.7.4"
  }
 },
 "nbformat": 4,
 "nbformat_minor": 4
}
